{
 "cells": [
  {
   "cell_type": "markdown",
   "metadata": {},
   "source": [
    "# Yuumi Insurance EDA"
   ]
  },
  {
   "cell_type": "code",
   "execution_count": 50,
   "metadata": {},
   "outputs": [],
   "source": [
    "# import basic libraries\n",
    "import math\n",
    "import numpy as np\n",
    "import pandas as pd\n",
    "import matplotlib.pyplot as plt\n",
    "import time\n",
    "from datetime import datetime\n",
    "%matplotlib inline\n",
    "\n",
    "# data visualisation\n",
    "#import missingno\n",
    "import seaborn as sns\n",
    "sns.set(font_scale=2)\n",
    "plt.style.use('seaborn-whitegrid')\n",
    "\n",
    "# preprocessing - encoding\n",
    "from sklearn.preprocessing import OneHotEncoder, LabelEncoder, label_binarize\n",
    "from nltk.tokenize import WordPunctTokenizer\n",
    "\n",
    "import json\n",
    "from pandas.io.json import json_normalize\n",
    "#json_normalize(msglog['message'])"
   ]
  },
  {
   "cell_type": "markdown",
   "metadata": {},
   "source": [
    "# Clean/Process Data"
   ]
  },
  {
   "cell_type": "code",
   "execution_count": 51,
   "metadata": {},
   "outputs": [],
   "source": [
    "# make column width bigger when displaying columns\n",
    "pd.set_option(\"display.max_colwidth\", 1000)\n",
    "pd.set_option(\"display.max_columns\", None)"
   ]
  },
  {
   "cell_type": "code",
   "execution_count": 52,
   "metadata": {},
   "outputs": [
    {
     "data": {
      "text/plain": [
       "28.23429799079895"
      ]
     },
     "execution_count": 52,
     "metadata": {},
     "output_type": "execute_result"
    }
   ],
   "source": [
    "# load in log data with time taken to load recorded\n",
    "start_time = time.time()\n",
    "log = pd.read_csv('Dataset/data.csv')\n",
    "log_time = (time.time() - start_time)\n",
    "log_time"
   ]
  },
  {
   "cell_type": "code",
   "execution_count": 53,
   "metadata": {},
   "outputs": [
    {
     "data": {
      "text/html": [
       "<div>\n",
       "<style scoped>\n",
       "    .dataframe tbody tr th:only-of-type {\n",
       "        vertical-align: middle;\n",
       "    }\n",
       "\n",
       "    .dataframe tbody tr th {\n",
       "        vertical-align: top;\n",
       "    }\n",
       "\n",
       "    .dataframe thead th {\n",
       "        text-align: right;\n",
       "    }\n",
       "</style>\n",
       "<table border=\"1\" class=\"dataframe\">\n",
       "  <thead>\n",
       "    <tr style=\"text-align: right;\">\n",
       "      <th></th>\n",
       "      <th>message</th>\n",
       "      <th>timestamp</th>\n",
       "    </tr>\n",
       "  </thead>\n",
       "  <tbody>\n",
       "    <tr>\n",
       "      <th>0</th>\n",
       "      <td>8f70c7577be8483 - mobile_browser - Quote Started for customer: 99ccf1</td>\n",
       "      <td>1.483193e+09</td>\n",
       "    </tr>\n",
       "    <tr>\n",
       "      <th>1</th>\n",
       "      <td>1368d40a4f6e455 - mobile_browser - Quote Completed for customer: 99ccf1 with json payload {'name': 'Nicole Berry', 'email': 'Nicole Berry@hotmail.com', 'gender': 'male', 'age': 29, 'home': {'type': 1, 'square_footage': 311.80361967382737, 'number_of_bedrooms': 2, 'number_of_floors': 1}, 'household': [{'name': 'Oscar Berry', 'age': 25, 'gender': 'female'}, {'name': 'Mark Berry', 'age': 10, 'gender': 'female'}, {'name': 'Jacqueline Berry', 'age': 14, 'gender': 'male'}], 'address': '66 Lake Jamieview,PSC '}</td>\n",
       "      <td>1.483194e+09</td>\n",
       "    </tr>\n",
       "    <tr>\n",
       "      <th>2</th>\n",
       "      <td>90527688b31d445 - mobile_browser - Claim Started for customer: 99ccf1</td>\n",
       "      <td>1.483194e+09</td>\n",
       "    </tr>\n",
       "    <tr>\n",
       "      <th>3</th>\n",
       "      <td>c4013f44ea6d40c - mobile_browser - Payment Completed for customer: 99ccf1</td>\n",
       "      <td>1.483194e+09</td>\n",
       "    </tr>\n",
       "    <tr>\n",
       "      <th>4</th>\n",
       "      <td>8045614075e7466 - pc_browser - Quote Started for customer: 9bae09</td>\n",
       "      <td>1.483196e+09</td>\n",
       "    </tr>\n",
       "  </tbody>\n",
       "</table>\n",
       "</div>"
      ],
      "text/plain": [
       "                                                                                                                                                                                                                                                                                                                                                                                                                                                                                                                         message  \\\n",
       "0                                                                                                                                                                                                                                                                                                                                                                                                                                                          8f70c7577be8483 - mobile_browser - Quote Started for customer: 99ccf1   \n",
       "1  1368d40a4f6e455 - mobile_browser - Quote Completed for customer: 99ccf1 with json payload {'name': 'Nicole Berry', 'email': 'Nicole Berry@hotmail.com', 'gender': 'male', 'age': 29, 'home': {'type': 1, 'square_footage': 311.80361967382737, 'number_of_bedrooms': 2, 'number_of_floors': 1}, 'household': [{'name': 'Oscar Berry', 'age': 25, 'gender': 'female'}, {'name': 'Mark Berry', 'age': 10, 'gender': 'female'}, {'name': 'Jacqueline Berry', 'age': 14, 'gender': 'male'}], 'address': '66 Lake Jamieview,PSC '}   \n",
       "2                                                                                                                                                                                                                                                                                                                                                                                                                                                          90527688b31d445 - mobile_browser - Claim Started for customer: 99ccf1   \n",
       "3                                                                                                                                                                                                                                                                                                                                                                                                                                                      c4013f44ea6d40c - mobile_browser - Payment Completed for customer: 99ccf1   \n",
       "4                                                                                                                                                                                                                                                                                                                                                                                                                                                              8045614075e7466 - pc_browser - Quote Started for customer: 9bae09   \n",
       "\n",
       "      timestamp  \n",
       "0  1.483193e+09  \n",
       "1  1.483194e+09  \n",
       "2  1.483194e+09  \n",
       "3  1.483194e+09  \n",
       "4  1.483196e+09  "
      ]
     },
     "execution_count": 53,
     "metadata": {},
     "output_type": "execute_result"
    }
   ],
   "source": [
    "# look at data, we can check the columns by log.message/log.timestamp\n",
    "# also log.message[0] shows first value for log.message\n",
    "log.head()"
   ]
  },
  {
   "cell_type": "code",
   "execution_count": 54,
   "metadata": {},
   "outputs": [
    {
     "data": {
      "text/plain": [
       "message       object\n",
       "timestamp    float64\n",
       "dtype: object"
      ]
     },
     "execution_count": 54,
     "metadata": {},
     "output_type": "execute_result"
    }
   ],
   "source": [
    "# shows columns and the data types of columns\n",
    "log.dtypes"
   ]
  },
  {
   "cell_type": "code",
   "execution_count": 55,
   "metadata": {},
   "outputs": [],
   "source": [
    "# create data frame which will store new column names from log data\n",
    "timelog = pd.DataFrame()"
   ]
  },
  {
   "cell_type": "code",
   "execution_count": 56,
   "metadata": {},
   "outputs": [],
   "source": [
    "# function for converting time into datetime (local)\n",
    "def convert_time(d):\n",
    "    return time.strftime('%Y-%m-%d %H:%M:%S', time.localtime(d))"
   ]
  },
  {
   "cell_type": "code",
   "execution_count": 57,
   "metadata": {},
   "outputs": [],
   "source": [
    "# put the timestamp column from log data into new timelog dataframe, while also converting it to datetime format\n",
    "timelog['timestamp'] = log['timestamp'].apply(convert_time)"
   ]
  },
  {
   "cell_type": "code",
   "execution_count": 58,
   "metadata": {
    "scrolled": true
   },
   "outputs": [],
   "source": [
    "# functions to get the date and the time separately\n",
    "def get_date(d):\n",
    "    return d[:10]\n",
    "def get_time(d):\n",
    "    return d[11:]"
   ]
  },
  {
   "cell_type": "code",
   "execution_count": 59,
   "metadata": {},
   "outputs": [],
   "source": [
    "# put date and time into timelog df\n",
    "timelog['DATE'] = timelog.timestamp.apply(get_date)\n",
    "timelog['TIME'] = timelog.timestamp.apply(get_time)"
   ]
  },
  {
   "cell_type": "code",
   "execution_count": 60,
   "metadata": {},
   "outputs": [
    {
     "data": {
      "text/html": [
       "<div>\n",
       "<style scoped>\n",
       "    .dataframe tbody tr th:only-of-type {\n",
       "        vertical-align: middle;\n",
       "    }\n",
       "\n",
       "    .dataframe tbody tr th {\n",
       "        vertical-align: top;\n",
       "    }\n",
       "\n",
       "    .dataframe thead th {\n",
       "        text-align: right;\n",
       "    }\n",
       "</style>\n",
       "<table border=\"1\" class=\"dataframe\">\n",
       "  <thead>\n",
       "    <tr style=\"text-align: right;\">\n",
       "      <th></th>\n",
       "      <th>timestamp</th>\n",
       "      <th>DATE</th>\n",
       "      <th>TIME</th>\n",
       "    </tr>\n",
       "  </thead>\n",
       "  <tbody>\n",
       "    <tr>\n",
       "      <th>0</th>\n",
       "      <td>2017-01-01 01:00:00</td>\n",
       "      <td>2017-01-01</td>\n",
       "      <td>01:00:00</td>\n",
       "    </tr>\n",
       "    <tr>\n",
       "      <th>1</th>\n",
       "      <td>2017-01-01 01:14:36</td>\n",
       "      <td>2017-01-01</td>\n",
       "      <td>01:14:36</td>\n",
       "    </tr>\n",
       "    <tr>\n",
       "      <th>2</th>\n",
       "      <td>2017-01-01 01:16:34</td>\n",
       "      <td>2017-01-01</td>\n",
       "      <td>01:16:34</td>\n",
       "    </tr>\n",
       "    <tr>\n",
       "      <th>3</th>\n",
       "      <td>2017-01-01 01:16:34</td>\n",
       "      <td>2017-01-01</td>\n",
       "      <td>01:16:34</td>\n",
       "    </tr>\n",
       "    <tr>\n",
       "      <th>4</th>\n",
       "      <td>2017-01-01 02:00:00</td>\n",
       "      <td>2017-01-01</td>\n",
       "      <td>02:00:00</td>\n",
       "    </tr>\n",
       "  </tbody>\n",
       "</table>\n",
       "</div>"
      ],
      "text/plain": [
       "             timestamp        DATE      TIME\n",
       "0  2017-01-01 01:00:00  2017-01-01  01:00:00\n",
       "1  2017-01-01 01:14:36  2017-01-01  01:14:36\n",
       "2  2017-01-01 01:16:34  2017-01-01  01:16:34\n",
       "3  2017-01-01 01:16:34  2017-01-01  01:16:34\n",
       "4  2017-01-01 02:00:00  2017-01-01  02:00:00"
      ]
     },
     "execution_count": 60,
     "metadata": {},
     "output_type": "execute_result"
    }
   ],
   "source": [
    "timelog.head()"
   ]
  },
  {
   "cell_type": "code",
   "execution_count": 61,
   "metadata": {},
   "outputs": [],
   "source": [
    "# create msglog for manipulating message data\n",
    "msglog = pd.DataFrame()\n",
    "msglog['message'] = log['message']"
   ]
  },
  {
   "cell_type": "code",
   "execution_count": 62,
   "metadata": {},
   "outputs": [
    {
     "data": {
      "text/html": [
       "<div>\n",
       "<style scoped>\n",
       "    .dataframe tbody tr th:only-of-type {\n",
       "        vertical-align: middle;\n",
       "    }\n",
       "\n",
       "    .dataframe tbody tr th {\n",
       "        vertical-align: top;\n",
       "    }\n",
       "\n",
       "    .dataframe thead th {\n",
       "        text-align: right;\n",
       "    }\n",
       "</style>\n",
       "<table border=\"1\" class=\"dataframe\">\n",
       "  <thead>\n",
       "    <tr style=\"text-align: right;\">\n",
       "      <th></th>\n",
       "      <th>message</th>\n",
       "    </tr>\n",
       "  </thead>\n",
       "  <tbody>\n",
       "    <tr>\n",
       "      <th>0</th>\n",
       "      <td>8f70c7577be8483 - mobile_browser - Quote Started for customer: 99ccf1</td>\n",
       "    </tr>\n",
       "    <tr>\n",
       "      <th>1</th>\n",
       "      <td>1368d40a4f6e455 - mobile_browser - Quote Completed for customer: 99ccf1 with json payload {'name': 'Nicole Berry', 'email': 'Nicole Berry@hotmail.com', 'gender': 'male', 'age': 29, 'home': {'type': 1, 'square_footage': 311.80361967382737, 'number_of_bedrooms': 2, 'number_of_floors': 1}, 'household': [{'name': 'Oscar Berry', 'age': 25, 'gender': 'female'}, {'name': 'Mark Berry', 'age': 10, 'gender': 'female'}, {'name': 'Jacqueline Berry', 'age': 14, 'gender': 'male'}], 'address': '66 Lake Jamieview,PSC '}</td>\n",
       "    </tr>\n",
       "    <tr>\n",
       "      <th>2</th>\n",
       "      <td>90527688b31d445 - mobile_browser - Claim Started for customer: 99ccf1</td>\n",
       "    </tr>\n",
       "    <tr>\n",
       "      <th>3</th>\n",
       "      <td>c4013f44ea6d40c - mobile_browser - Payment Completed for customer: 99ccf1</td>\n",
       "    </tr>\n",
       "    <tr>\n",
       "      <th>4</th>\n",
       "      <td>8045614075e7466 - pc_browser - Quote Started for customer: 9bae09</td>\n",
       "    </tr>\n",
       "  </tbody>\n",
       "</table>\n",
       "</div>"
      ],
      "text/plain": [
       "                                                                                                                                                                                                                                                                                                                                                                                                                                                                                                                         message\n",
       "0                                                                                                                                                                                                                                                                                                                                                                                                                                                          8f70c7577be8483 - mobile_browser - Quote Started for customer: 99ccf1\n",
       "1  1368d40a4f6e455 - mobile_browser - Quote Completed for customer: 99ccf1 with json payload {'name': 'Nicole Berry', 'email': 'Nicole Berry@hotmail.com', 'gender': 'male', 'age': 29, 'home': {'type': 1, 'square_footage': 311.80361967382737, 'number_of_bedrooms': 2, 'number_of_floors': 1}, 'household': [{'name': 'Oscar Berry', 'age': 25, 'gender': 'female'}, {'name': 'Mark Berry', 'age': 10, 'gender': 'female'}, {'name': 'Jacqueline Berry', 'age': 14, 'gender': 'male'}], 'address': '66 Lake Jamieview,PSC '}\n",
       "2                                                                                                                                                                                                                                                                                                                                                                                                                                                          90527688b31d445 - mobile_browser - Claim Started for customer: 99ccf1\n",
       "3                                                                                                                                                                                                                                                                                                                                                                                                                                                      c4013f44ea6d40c - mobile_browser - Payment Completed for customer: 99ccf1\n",
       "4                                                                                                                                                                                                                                                                                                                                                                                                                                                              8045614075e7466 - pc_browser - Quote Started for customer: 9bae09"
      ]
     },
     "execution_count": 62,
     "metadata": {},
     "output_type": "execute_result"
    }
   ],
   "source": [
    "msglog.head()"
   ]
  },
  {
   "cell_type": "code",
   "execution_count": 63,
   "metadata": {},
   "outputs": [],
   "source": [
    "# split message, put into new variable, new columns for transaction id, device \n",
    "splitmsg1 = pd.DataFrame(log.message.str.split('-',2).tolist(), columns = ['transaction_id', 'device', 'message'])"
   ]
  },
  {
   "cell_type": "code",
   "execution_count": 64,
   "metadata": {},
   "outputs": [
    {
     "data": {
      "text/html": [
       "<div>\n",
       "<style scoped>\n",
       "    .dataframe tbody tr th:only-of-type {\n",
       "        vertical-align: middle;\n",
       "    }\n",
       "\n",
       "    .dataframe tbody tr th {\n",
       "        vertical-align: top;\n",
       "    }\n",
       "\n",
       "    .dataframe thead th {\n",
       "        text-align: right;\n",
       "    }\n",
       "</style>\n",
       "<table border=\"1\" class=\"dataframe\">\n",
       "  <thead>\n",
       "    <tr style=\"text-align: right;\">\n",
       "      <th></th>\n",
       "      <th>transaction_id</th>\n",
       "      <th>device</th>\n",
       "      <th>message</th>\n",
       "    </tr>\n",
       "  </thead>\n",
       "  <tbody>\n",
       "    <tr>\n",
       "      <th>0</th>\n",
       "      <td>8f70c7577be8483</td>\n",
       "      <td>mobile_browser</td>\n",
       "      <td>Quote Started for customer: 99ccf1</td>\n",
       "    </tr>\n",
       "    <tr>\n",
       "      <th>1</th>\n",
       "      <td>1368d40a4f6e455</td>\n",
       "      <td>mobile_browser</td>\n",
       "      <td>Quote Completed for customer: 99ccf1 with json payload {'name': 'Nicole Berry', 'email': 'Nicole Berry@hotmail.com', 'gender': 'male', 'age': 29, 'home': {'type': 1, 'square_footage': 311.80361967382737, 'number_of_bedrooms': 2, 'number_of_floors': 1}, 'household': [{'name': 'Oscar Berry', 'age': 25, 'gender': 'female'}, {'name': 'Mark Berry', 'age': 10, 'gender': 'female'}, {'name': 'Jacqueline Berry', 'age': 14, 'gender': 'male'}], 'address': '66 Lake Jamieview,PSC '}</td>\n",
       "    </tr>\n",
       "    <tr>\n",
       "      <th>2</th>\n",
       "      <td>90527688b31d445</td>\n",
       "      <td>mobile_browser</td>\n",
       "      <td>Claim Started for customer: 99ccf1</td>\n",
       "    </tr>\n",
       "    <tr>\n",
       "      <th>3</th>\n",
       "      <td>c4013f44ea6d40c</td>\n",
       "      <td>mobile_browser</td>\n",
       "      <td>Payment Completed for customer: 99ccf1</td>\n",
       "    </tr>\n",
       "    <tr>\n",
       "      <th>4</th>\n",
       "      <td>8045614075e7466</td>\n",
       "      <td>pc_browser</td>\n",
       "      <td>Quote Started for customer: 9bae09</td>\n",
       "    </tr>\n",
       "  </tbody>\n",
       "</table>\n",
       "</div>"
      ],
      "text/plain": [
       "     transaction_id            device  \\\n",
       "0  8f70c7577be8483    mobile_browser    \n",
       "1  1368d40a4f6e455    mobile_browser    \n",
       "2  90527688b31d445    mobile_browser    \n",
       "3  c4013f44ea6d40c    mobile_browser    \n",
       "4  8045614075e7466        pc_browser    \n",
       "\n",
       "                                                                                                                                                                                                                                                                                                                                                                                                                                                                                       message  \n",
       "0                                                                                                                                                                                                                                                                                                                                                                                                                                                           Quote Started for customer: 99ccf1  \n",
       "1   Quote Completed for customer: 99ccf1 with json payload {'name': 'Nicole Berry', 'email': 'Nicole Berry@hotmail.com', 'gender': 'male', 'age': 29, 'home': {'type': 1, 'square_footage': 311.80361967382737, 'number_of_bedrooms': 2, 'number_of_floors': 1}, 'household': [{'name': 'Oscar Berry', 'age': 25, 'gender': 'female'}, {'name': 'Mark Berry', 'age': 10, 'gender': 'female'}, {'name': 'Jacqueline Berry', 'age': 14, 'gender': 'male'}], 'address': '66 Lake Jamieview,PSC '}  \n",
       "2                                                                                                                                                                                                                                                                                                                                                                                                                                                           Claim Started for customer: 99ccf1  \n",
       "3                                                                                                                                                                                                                                                                                                                                                                                                                                                       Payment Completed for customer: 99ccf1  \n",
       "4                                                                                                                                                                                                                                                                                                                                                                                                                                                           Quote Started for customer: 9bae09  "
      ]
     },
     "execution_count": 64,
     "metadata": {},
     "output_type": "execute_result"
    }
   ],
   "source": [
    "splitmsg1.head()"
   ]
  },
  {
   "cell_type": "code",
   "execution_count": 65,
   "metadata": {},
   "outputs": [],
   "source": [
    "# from remaining message in splitmsg1, split the action from remaining message into splitmsg2\n",
    "splitmsg2 = pd.DataFrame(splitmsg1.message.str.split(':',1).tolist(), columns = ['action', 'message'])\n",
    "splitmsg2['customer_id'] = splitmsg2['message'].str.split().str[0]"
   ]
  },
  {
   "cell_type": "code",
   "execution_count": 66,
   "metadata": {},
   "outputs": [
    {
     "data": {
      "text/html": [
       "<div>\n",
       "<style scoped>\n",
       "    .dataframe tbody tr th:only-of-type {\n",
       "        vertical-align: middle;\n",
       "    }\n",
       "\n",
       "    .dataframe tbody tr th {\n",
       "        vertical-align: top;\n",
       "    }\n",
       "\n",
       "    .dataframe thead th {\n",
       "        text-align: right;\n",
       "    }\n",
       "</style>\n",
       "<table border=\"1\" class=\"dataframe\">\n",
       "  <thead>\n",
       "    <tr style=\"text-align: right;\">\n",
       "      <th></th>\n",
       "      <th>action</th>\n",
       "      <th>message</th>\n",
       "      <th>customer_id</th>\n",
       "    </tr>\n",
       "  </thead>\n",
       "  <tbody>\n",
       "    <tr>\n",
       "      <th>0</th>\n",
       "      <td>Quote Started for customer</td>\n",
       "      <td>99ccf1</td>\n",
       "      <td>99ccf1</td>\n",
       "    </tr>\n",
       "    <tr>\n",
       "      <th>1</th>\n",
       "      <td>Quote Completed for customer</td>\n",
       "      <td>99ccf1 with json payload {'name': 'Nicole Berry', 'email': 'Nicole Berry@hotmail.com', 'gender': 'male', 'age': 29, 'home': {'type': 1, 'square_footage': 311.80361967382737, 'number_of_bedrooms': 2, 'number_of_floors': 1}, 'household': [{'name': 'Oscar Berry', 'age': 25, 'gender': 'female'}, {'name': 'Mark Berry', 'age': 10, 'gender': 'female'}, {'name': 'Jacqueline Berry', 'age': 14, 'gender': 'male'}], 'address': '66 Lake Jamieview,PSC '}</td>\n",
       "      <td>99ccf1</td>\n",
       "    </tr>\n",
       "    <tr>\n",
       "      <th>2</th>\n",
       "      <td>Claim Started for customer</td>\n",
       "      <td>99ccf1</td>\n",
       "      <td>99ccf1</td>\n",
       "    </tr>\n",
       "    <tr>\n",
       "      <th>3</th>\n",
       "      <td>Payment Completed for customer</td>\n",
       "      <td>99ccf1</td>\n",
       "      <td>99ccf1</td>\n",
       "    </tr>\n",
       "    <tr>\n",
       "      <th>4</th>\n",
       "      <td>Quote Started for customer</td>\n",
       "      <td>9bae09</td>\n",
       "      <td>9bae09</td>\n",
       "    </tr>\n",
       "  </tbody>\n",
       "</table>\n",
       "</div>"
      ],
      "text/plain": [
       "                            action  \\\n",
       "0       Quote Started for customer   \n",
       "1     Quote Completed for customer   \n",
       "2       Claim Started for customer   \n",
       "3   Payment Completed for customer   \n",
       "4       Quote Started for customer   \n",
       "\n",
       "                                                                                                                                                                                                                                                                                                                                                                                                                                                         message  \\\n",
       "0                                                                                                                                                                                                                                                                                                                                                                                                                                                         99ccf1   \n",
       "1   99ccf1 with json payload {'name': 'Nicole Berry', 'email': 'Nicole Berry@hotmail.com', 'gender': 'male', 'age': 29, 'home': {'type': 1, 'square_footage': 311.80361967382737, 'number_of_bedrooms': 2, 'number_of_floors': 1}, 'household': [{'name': 'Oscar Berry', 'age': 25, 'gender': 'female'}, {'name': 'Mark Berry', 'age': 10, 'gender': 'female'}, {'name': 'Jacqueline Berry', 'age': 14, 'gender': 'male'}], 'address': '66 Lake Jamieview,PSC '}   \n",
       "2                                                                                                                                                                                                                                                                                                                                                                                                                                                         99ccf1   \n",
       "3                                                                                                                                                                                                                                                                                                                                                                                                                                                         99ccf1   \n",
       "4                                                                                                                                                                                                                                                                                                                                                                                                                                                         9bae09   \n",
       "\n",
       "  customer_id  \n",
       "0      99ccf1  \n",
       "1      99ccf1  \n",
       "2      99ccf1  \n",
       "3      99ccf1  \n",
       "4      9bae09  "
      ]
     },
     "execution_count": 66,
     "metadata": {},
     "output_type": "execute_result"
    }
   ],
   "source": [
    "msglog['customer_id'] = splitmsg2['customer_id']\n",
    "splitmsg2.head()"
   ]
  },
  {
   "cell_type": "code",
   "execution_count": 67,
   "metadata": {},
   "outputs": [
    {
     "data": {
      "text/html": [
       "<div>\n",
       "<style scoped>\n",
       "    .dataframe tbody tr th:only-of-type {\n",
       "        vertical-align: middle;\n",
       "    }\n",
       "\n",
       "    .dataframe tbody tr th {\n",
       "        vertical-align: top;\n",
       "    }\n",
       "\n",
       "    .dataframe thead th {\n",
       "        text-align: right;\n",
       "    }\n",
       "</style>\n",
       "<table border=\"1\" class=\"dataframe\">\n",
       "  <thead>\n",
       "    <tr style=\"text-align: right;\">\n",
       "      <th></th>\n",
       "      <th>message</th>\n",
       "      <th>customer_id</th>\n",
       "      <th>transaction_id</th>\n",
       "      <th>device</th>\n",
       "      <th>action</th>\n",
       "    </tr>\n",
       "  </thead>\n",
       "  <tbody>\n",
       "    <tr>\n",
       "      <th>0</th>\n",
       "      <td>8f70c7577be8483 - mobile_browser - Quote Started for customer: 99ccf1</td>\n",
       "      <td>99ccf1</td>\n",
       "      <td>8f70c7577be8483</td>\n",
       "      <td>mobile_browser</td>\n",
       "      <td>Quote Started for customer</td>\n",
       "    </tr>\n",
       "    <tr>\n",
       "      <th>1</th>\n",
       "      <td>1368d40a4f6e455 - mobile_browser - Quote Completed for customer: 99ccf1 with json payload {'name': 'Nicole Berry', 'email': 'Nicole Berry@hotmail.com', 'gender': 'male', 'age': 29, 'home': {'type': 1, 'square_footage': 311.80361967382737, 'number_of_bedrooms': 2, 'number_of_floors': 1}, 'household': [{'name': 'Oscar Berry', 'age': 25, 'gender': 'female'}, {'name': 'Mark Berry', 'age': 10, 'gender': 'female'}, {'name': 'Jacqueline Berry', 'age': 14, 'gender': 'male'}], 'address': '66 Lake Jamieview,PSC '}</td>\n",
       "      <td>99ccf1</td>\n",
       "      <td>1368d40a4f6e455</td>\n",
       "      <td>mobile_browser</td>\n",
       "      <td>Quote Completed for customer</td>\n",
       "    </tr>\n",
       "    <tr>\n",
       "      <th>2</th>\n",
       "      <td>90527688b31d445 - mobile_browser - Claim Started for customer: 99ccf1</td>\n",
       "      <td>99ccf1</td>\n",
       "      <td>90527688b31d445</td>\n",
       "      <td>mobile_browser</td>\n",
       "      <td>Claim Started for customer</td>\n",
       "    </tr>\n",
       "    <tr>\n",
       "      <th>3</th>\n",
       "      <td>c4013f44ea6d40c - mobile_browser - Payment Completed for customer: 99ccf1</td>\n",
       "      <td>99ccf1</td>\n",
       "      <td>c4013f44ea6d40c</td>\n",
       "      <td>mobile_browser</td>\n",
       "      <td>Payment Completed for customer</td>\n",
       "    </tr>\n",
       "    <tr>\n",
       "      <th>4</th>\n",
       "      <td>8045614075e7466 - pc_browser - Quote Started for customer: 9bae09</td>\n",
       "      <td>9bae09</td>\n",
       "      <td>8045614075e7466</td>\n",
       "      <td>pc_browser</td>\n",
       "      <td>Quote Started for customer</td>\n",
       "    </tr>\n",
       "  </tbody>\n",
       "</table>\n",
       "</div>"
      ],
      "text/plain": [
       "                                                                                                                                                                                                                                                                                                                                                                                                                                                                                                                         message  \\\n",
       "0                                                                                                                                                                                                                                                                                                                                                                                                                                                          8f70c7577be8483 - mobile_browser - Quote Started for customer: 99ccf1   \n",
       "1  1368d40a4f6e455 - mobile_browser - Quote Completed for customer: 99ccf1 with json payload {'name': 'Nicole Berry', 'email': 'Nicole Berry@hotmail.com', 'gender': 'male', 'age': 29, 'home': {'type': 1, 'square_footage': 311.80361967382737, 'number_of_bedrooms': 2, 'number_of_floors': 1}, 'household': [{'name': 'Oscar Berry', 'age': 25, 'gender': 'female'}, {'name': 'Mark Berry', 'age': 10, 'gender': 'female'}, {'name': 'Jacqueline Berry', 'age': 14, 'gender': 'male'}], 'address': '66 Lake Jamieview,PSC '}   \n",
       "2                                                                                                                                                                                                                                                                                                                                                                                                                                                          90527688b31d445 - mobile_browser - Claim Started for customer: 99ccf1   \n",
       "3                                                                                                                                                                                                                                                                                                                                                                                                                                                      c4013f44ea6d40c - mobile_browser - Payment Completed for customer: 99ccf1   \n",
       "4                                                                                                                                                                                                                                                                                                                                                                                                                                                              8045614075e7466 - pc_browser - Quote Started for customer: 9bae09   \n",
       "\n",
       "  customer_id    transaction_id            device  \\\n",
       "0      99ccf1  8f70c7577be8483    mobile_browser    \n",
       "1      99ccf1  1368d40a4f6e455    mobile_browser    \n",
       "2      99ccf1  90527688b31d445    mobile_browser    \n",
       "3      99ccf1  c4013f44ea6d40c    mobile_browser    \n",
       "4      9bae09  8045614075e7466        pc_browser    \n",
       "\n",
       "                            action  \n",
       "0       Quote Started for customer  \n",
       "1     Quote Completed for customer  \n",
       "2       Claim Started for customer  \n",
       "3   Payment Completed for customer  \n",
       "4       Quote Started for customer  "
      ]
     },
     "execution_count": 67,
     "metadata": {},
     "output_type": "execute_result"
    }
   ],
   "source": [
    "# put all the data together\n",
    "msglog['transaction_id'] = splitmsg1['transaction_id']\n",
    "msglog['device'] = splitmsg1['device']\n",
    "msglog['action'] = splitmsg2['action']\n",
    "msglog.head()"
   ]
  },
  {
   "cell_type": "code",
   "execution_count": 68,
   "metadata": {},
   "outputs": [
    {
     "data": {
      "text/plain": [
       " Claim Started for customer        826795\n",
       " Claim Accepted for customer       816301\n",
       " Quote Started for customer        632998\n",
       " Quote Completed for customer      523322\n",
       " Payment Completed for customer    225921\n",
       " Policy Cancelled for customer     156327\n",
       " Quote Incomplete for customer     109676\n",
       " Claim Denied for customer          10494\n",
       "Name: action, dtype: int64"
      ]
     },
     "execution_count": 68,
     "metadata": {},
     "output_type": "execute_result"
    }
   ],
   "source": [
    "msglog.action.value_counts()"
   ]
  },
  {
   "cell_type": "code",
   "execution_count": 69,
   "metadata": {},
   "outputs": [],
   "source": [
    "# look for values in column action with denied message\n",
    "denied = msglog['action']==\" Claim Denied for customer\""
   ]
  },
  {
   "cell_type": "code",
   "execution_count": 70,
   "metadata": {},
   "outputs": [],
   "source": [
    "# just denied claims\n",
    "denied_claims = msglog[denied]"
   ]
  },
  {
   "cell_type": "code",
   "execution_count": 71,
   "metadata": {},
   "outputs": [],
   "source": [
    "#split message into json_payload and message\n",
    "splitmsg3 = pd.DataFrame()\n",
    "splitmsg3['message'] = msglog['message'].str.split('json payload',1).str[0]\n",
    "splitmsg3['json_payload'] = msglog['message'].str.split('json payload',1).str[1]"
   ]
  },
  {
   "cell_type": "code",
   "execution_count": 72,
   "metadata": {},
   "outputs": [],
   "source": [
    "#read json_payload and message into msglog\n",
    "msglog['json_payload'] = splitmsg3['json_payload']\n",
    "msglog['message'] = splitmsg3['message']"
   ]
  },
  {
   "cell_type": "code",
   "execution_count": 73,
   "metadata": {},
   "outputs": [],
   "source": [
    "#remove stuff in between later"
   ]
  },
  {
   "cell_type": "code",
   "execution_count": 74,
   "metadata": {},
   "outputs": [],
   "source": [
    "saved = msglog #cause I ceebs waiting\n",
    "msglog = saved.head(500)"
   ]
  },
  {
   "cell_type": "code",
   "execution_count": 75,
   "metadata": {},
   "outputs": [],
   "source": [
    "#remove stuff in between"
   ]
  },
  {
   "cell_type": "code",
   "execution_count": 76,
   "metadata": {
    "scrolled": true
   },
   "outputs": [
    {
     "data": {
      "text/plain": [
       " Quote Started for customer        217\n",
       " Quote Completed for customer      187\n",
       " Payment Completed for customer     47\n",
       " Quote Incomplete for customer      25\n",
       " Claim Started for customer         15\n",
       " Claim Denied for customer           7\n",
       " Claim Accepted for customer         2\n",
       "Name: action, dtype: int64"
      ]
     },
     "execution_count": 76,
     "metadata": {},
     "output_type": "execute_result"
    }
   ],
   "source": [
    "#different types of quotes\n",
    "msglog['action'].value_counts()"
   ]
  },
  {
   "cell_type": "code",
   "execution_count": 77,
   "metadata": {
    "scrolled": true
   },
   "outputs": [
    {
     "name": "stderr",
     "output_type": "stream",
     "text": [
      "/anaconda3/lib/python3.7/site-packages/ipykernel_launcher.py:2: SettingWithCopyWarning: \n",
      "A value is trying to be set on a copy of a slice from a DataFrame.\n",
      "Try using .loc[row_indexer,col_indexer] = value instead\n",
      "\n",
      "See the caveats in the documentation: http://pandas.pydata.org/pandas-docs/stable/indexing.html#indexing-view-versus-copy\n",
      "  \n",
      "/anaconda3/lib/python3.7/site-packages/ipykernel_launcher.py:3: SettingWithCopyWarning: \n",
      "A value is trying to be set on a copy of a slice from a DataFrame.\n",
      "Try using .loc[row_indexer,col_indexer] = value instead\n",
      "\n",
      "See the caveats in the documentation: http://pandas.pydata.org/pandas-docs/stable/indexing.html#indexing-view-versus-copy\n",
      "  This is separate from the ipykernel package so we can avoid doing imports until\n",
      "/anaconda3/lib/python3.7/site-packages/ipykernel_launcher.py:4: SettingWithCopyWarning: \n",
      "A value is trying to be set on a copy of a slice from a DataFrame.\n",
      "Try using .loc[row_indexer,col_indexer] = value instead\n",
      "\n",
      "See the caveats in the documentation: http://pandas.pydata.org/pandas-docs/stable/indexing.html#indexing-view-versus-copy\n",
      "  after removing the cwd from sys.path.\n",
      "/anaconda3/lib/python3.7/site-packages/ipykernel_launcher.py:5: SettingWithCopyWarning: \n",
      "A value is trying to be set on a copy of a slice from a DataFrame.\n",
      "Try using .loc[row_indexer,col_indexer] = value instead\n",
      "\n",
      "See the caveats in the documentation: http://pandas.pydata.org/pandas-docs/stable/indexing.html#indexing-view-versus-copy\n",
      "  \"\"\"\n",
      "/anaconda3/lib/python3.7/site-packages/ipykernel_launcher.py:6: SettingWithCopyWarning: \n",
      "A value is trying to be set on a copy of a slice from a DataFrame.\n",
      "Try using .loc[row_indexer,col_indexer] = value instead\n",
      "\n",
      "See the caveats in the documentation: http://pandas.pydata.org/pandas-docs/stable/indexing.html#indexing-view-versus-copy\n",
      "  \n",
      "/anaconda3/lib/python3.7/site-packages/ipykernel_launcher.py:7: SettingWithCopyWarning: \n",
      "A value is trying to be set on a copy of a slice from a DataFrame.\n",
      "Try using .loc[row_indexer,col_indexer] = value instead\n",
      "\n",
      "See the caveats in the documentation: http://pandas.pydata.org/pandas-docs/stable/indexing.html#indexing-view-versus-copy\n",
      "  import sys\n",
      "/anaconda3/lib/python3.7/site-packages/ipykernel_launcher.py:8: SettingWithCopyWarning: \n",
      "A value is trying to be set on a copy of a slice from a DataFrame.\n",
      "Try using .loc[row_indexer,col_indexer] = value instead\n",
      "\n",
      "See the caveats in the documentation: http://pandas.pydata.org/pandas-docs/stable/indexing.html#indexing-view-versus-copy\n",
      "  \n",
      "/anaconda3/lib/python3.7/site-packages/ipykernel_launcher.py:9: SettingWithCopyWarning: \n",
      "A value is trying to be set on a copy of a slice from a DataFrame.\n",
      "Try using .loc[row_indexer,col_indexer] = value instead\n",
      "\n",
      "See the caveats in the documentation: http://pandas.pydata.org/pandas-docs/stable/indexing.html#indexing-view-versus-copy\n",
      "  if __name__ == '__main__':\n"
     ]
    },
    {
     "data": {
      "text/html": [
       "<div>\n",
       "<style scoped>\n",
       "    .dataframe tbody tr th:only-of-type {\n",
       "        vertical-align: middle;\n",
       "    }\n",
       "\n",
       "    .dataframe tbody tr th {\n",
       "        vertical-align: top;\n",
       "    }\n",
       "\n",
       "    .dataframe thead th {\n",
       "        text-align: right;\n",
       "    }\n",
       "</style>\n",
       "<table border=\"1\" class=\"dataframe\">\n",
       "  <thead>\n",
       "    <tr style=\"text-align: right;\">\n",
       "      <th></th>\n",
       "      <th>message</th>\n",
       "      <th>customer_id</th>\n",
       "      <th>transaction_id</th>\n",
       "      <th>device</th>\n",
       "      <th>action</th>\n",
       "      <th>json_payload</th>\n",
       "      <th>name</th>\n",
       "      <th>email</th>\n",
       "      <th>gender</th>\n",
       "      <th>home</th>\n",
       "      <th>age</th>\n",
       "      <th>household</th>\n",
       "      <th>address</th>\n",
       "      <th>fraud</th>\n",
       "    </tr>\n",
       "  </thead>\n",
       "  <tbody>\n",
       "    <tr>\n",
       "      <th>0</th>\n",
       "      <td>8f70c7577be8483 - mobile_browser - Quote Started for customer: 99ccf1</td>\n",
       "      <td>99ccf1</td>\n",
       "      <td>8f70c7577be8483</td>\n",
       "      <td>mobile_browser</td>\n",
       "      <td>Quote Started for customer</td>\n",
       "      <td>NaN</td>\n",
       "      <td>NaN</td>\n",
       "      <td>NaN</td>\n",
       "      <td>NaN</td>\n",
       "      <td>NaN</td>\n",
       "      <td>NaN</td>\n",
       "      <td>NaN</td>\n",
       "      <td>NaN</td>\n",
       "      <td>0</td>\n",
       "    </tr>\n",
       "    <tr>\n",
       "      <th>1</th>\n",
       "      <td>1368d40a4f6e455 - mobile_browser - Quote Completed for customer: 99ccf1 with</td>\n",
       "      <td>99ccf1</td>\n",
       "      <td>1368d40a4f6e455</td>\n",
       "      <td>mobile_browser</td>\n",
       "      <td>Quote Completed for customer</td>\n",
       "      <td>{'name': 'Nicole Berry', 'email': 'Nicole Berry@hotmail.com', 'gender': 'male', 'age': 29, 'home': {'type': 1, 'square_footage': 311.80361967382737, 'number_of_bedrooms': 2, 'number_of_floors': 1}, 'household': [{'name': 'Oscar Berry', 'age': 25, 'gender': 'female'}, {'name': 'Mark Berry', 'age': 10, 'gender': 'female'}, {'name': 'Jacqueline Berry', 'age': 14, 'gender': 'male'}], 'address': '66 Lake Jamieview,PSC '}</td>\n",
       "      <td>NaN</td>\n",
       "      <td>NaN</td>\n",
       "      <td>NaN</td>\n",
       "      <td>NaN</td>\n",
       "      <td>NaN</td>\n",
       "      <td>NaN</td>\n",
       "      <td>NaN</td>\n",
       "      <td>0</td>\n",
       "    </tr>\n",
       "    <tr>\n",
       "      <th>2</th>\n",
       "      <td>90527688b31d445 - mobile_browser - Claim Started for customer: 99ccf1</td>\n",
       "      <td>99ccf1</td>\n",
       "      <td>90527688b31d445</td>\n",
       "      <td>mobile_browser</td>\n",
       "      <td>Claim Started for customer</td>\n",
       "      <td>NaN</td>\n",
       "      <td>NaN</td>\n",
       "      <td>NaN</td>\n",
       "      <td>NaN</td>\n",
       "      <td>NaN</td>\n",
       "      <td>NaN</td>\n",
       "      <td>NaN</td>\n",
       "      <td>NaN</td>\n",
       "      <td>0</td>\n",
       "    </tr>\n",
       "    <tr>\n",
       "      <th>3</th>\n",
       "      <td>c4013f44ea6d40c - mobile_browser - Payment Completed for customer: 99ccf1</td>\n",
       "      <td>99ccf1</td>\n",
       "      <td>c4013f44ea6d40c</td>\n",
       "      <td>mobile_browser</td>\n",
       "      <td>Payment Completed for customer</td>\n",
       "      <td>NaN</td>\n",
       "      <td>NaN</td>\n",
       "      <td>NaN</td>\n",
       "      <td>NaN</td>\n",
       "      <td>NaN</td>\n",
       "      <td>NaN</td>\n",
       "      <td>NaN</td>\n",
       "      <td>NaN</td>\n",
       "      <td>0</td>\n",
       "    </tr>\n",
       "    <tr>\n",
       "      <th>4</th>\n",
       "      <td>8045614075e7466 - pc_browser - Quote Started for customer: 9bae09</td>\n",
       "      <td>9bae09</td>\n",
       "      <td>8045614075e7466</td>\n",
       "      <td>pc_browser</td>\n",
       "      <td>Quote Started for customer</td>\n",
       "      <td>NaN</td>\n",
       "      <td>NaN</td>\n",
       "      <td>NaN</td>\n",
       "      <td>NaN</td>\n",
       "      <td>NaN</td>\n",
       "      <td>NaN</td>\n",
       "      <td>NaN</td>\n",
       "      <td>NaN</td>\n",
       "      <td>0</td>\n",
       "    </tr>\n",
       "  </tbody>\n",
       "</table>\n",
       "</div>"
      ],
      "text/plain": [
       "                                                                         message  \\\n",
       "0          8f70c7577be8483 - mobile_browser - Quote Started for customer: 99ccf1   \n",
       "1  1368d40a4f6e455 - mobile_browser - Quote Completed for customer: 99ccf1 with    \n",
       "2          90527688b31d445 - mobile_browser - Claim Started for customer: 99ccf1   \n",
       "3      c4013f44ea6d40c - mobile_browser - Payment Completed for customer: 99ccf1   \n",
       "4              8045614075e7466 - pc_browser - Quote Started for customer: 9bae09   \n",
       "\n",
       "  customer_id    transaction_id            device  \\\n",
       "0      99ccf1  8f70c7577be8483    mobile_browser    \n",
       "1      99ccf1  1368d40a4f6e455    mobile_browser    \n",
       "2      99ccf1  90527688b31d445    mobile_browser    \n",
       "3      99ccf1  c4013f44ea6d40c    mobile_browser    \n",
       "4      9bae09  8045614075e7466        pc_browser    \n",
       "\n",
       "                            action  \\\n",
       "0       Quote Started for customer   \n",
       "1     Quote Completed for customer   \n",
       "2       Claim Started for customer   \n",
       "3   Payment Completed for customer   \n",
       "4       Quote Started for customer   \n",
       "\n",
       "                                                                                                                                                                                                                                                                                                                                                                                                                           json_payload  \\\n",
       "0                                                                                                                                                                                                                                                                                                                                                                                                                                   NaN   \n",
       "1   {'name': 'Nicole Berry', 'email': 'Nicole Berry@hotmail.com', 'gender': 'male', 'age': 29, 'home': {'type': 1, 'square_footage': 311.80361967382737, 'number_of_bedrooms': 2, 'number_of_floors': 1}, 'household': [{'name': 'Oscar Berry', 'age': 25, 'gender': 'female'}, {'name': 'Mark Berry', 'age': 10, 'gender': 'female'}, {'name': 'Jacqueline Berry', 'age': 14, 'gender': 'male'}], 'address': '66 Lake Jamieview,PSC '}   \n",
       "2                                                                                                                                                                                                                                                                                                                                                                                                                                   NaN   \n",
       "3                                                                                                                                                                                                                                                                                                                                                                                                                                   NaN   \n",
       "4                                                                                                                                                                                                                                                                                                                                                                                                                                   NaN   \n",
       "\n",
       "   name  email  gender  home  age  household  address  fraud  \n",
       "0   NaN    NaN     NaN   NaN  NaN        NaN      NaN      0  \n",
       "1   NaN    NaN     NaN   NaN  NaN        NaN      NaN      0  \n",
       "2   NaN    NaN     NaN   NaN  NaN        NaN      NaN      0  \n",
       "3   NaN    NaN     NaN   NaN  NaN        NaN      NaN      0  \n",
       "4   NaN    NaN     NaN   NaN  NaN        NaN      NaN      0  "
      ]
     },
     "execution_count": 77,
     "metadata": {},
     "output_type": "execute_result"
    }
   ],
   "source": [
    "#create columns (initialise to nan)\n",
    "msglog['name'] = np.nan\n",
    "msglog['email'] = np.nan\n",
    "msglog['gender'] = np.nan\n",
    "msglog['home'] = np.nan\n",
    "msglog['age'] = np.nan\n",
    "msglog['household'] = np.nan\n",
    "msglog['address'] = np.nan\n",
    "msglog['fraud'] = 0\n",
    "\n",
    "msglog.head()"
   ]
  },
  {
   "cell_type": "markdown",
   "metadata": {},
   "source": [
    "Add fraud column"
   ]
  },
  {
   "cell_type": "code",
   "execution_count": 78,
   "metadata": {},
   "outputs": [
    {
     "name": "stderr",
     "output_type": "stream",
     "text": [
      "/anaconda3/lib/python3.7/site-packages/ipykernel_launcher.py:6: SettingWithCopyWarning: \n",
      "A value is trying to be set on a copy of a slice from a DataFrame.\n",
      "Try using .loc[row_indexer,col_indexer] = value instead\n",
      "\n",
      "See the caveats in the documentation: http://pandas.pydata.org/pandas-docs/stable/indexing.html#indexing-view-versus-copy\n",
      "  \n"
     ]
    },
    {
     "data": {
      "text/html": [
       "<div>\n",
       "<style scoped>\n",
       "    .dataframe tbody tr th:only-of-type {\n",
       "        vertical-align: middle;\n",
       "    }\n",
       "\n",
       "    .dataframe tbody tr th {\n",
       "        vertical-align: top;\n",
       "    }\n",
       "\n",
       "    .dataframe thead th {\n",
       "        text-align: right;\n",
       "    }\n",
       "</style>\n",
       "<table border=\"1\" class=\"dataframe\">\n",
       "  <thead>\n",
       "    <tr style=\"text-align: right;\">\n",
       "      <th></th>\n",
       "      <th>message</th>\n",
       "      <th>customer_id</th>\n",
       "      <th>transaction_id</th>\n",
       "      <th>device</th>\n",
       "      <th>action</th>\n",
       "      <th>json_payload</th>\n",
       "      <th>name</th>\n",
       "      <th>email</th>\n",
       "      <th>gender</th>\n",
       "      <th>home</th>\n",
       "      <th>age</th>\n",
       "      <th>household</th>\n",
       "      <th>address</th>\n",
       "      <th>fraud</th>\n",
       "    </tr>\n",
       "  </thead>\n",
       "  <tbody>\n",
       "    <tr>\n",
       "      <th>0</th>\n",
       "      <td>8f70c7577be8483 - mobile_browser - Quote Started for customer: 99ccf1</td>\n",
       "      <td>99ccf1</td>\n",
       "      <td>8f70c7577be8483</td>\n",
       "      <td>mobile_browser</td>\n",
       "      <td>Quote Started for customer</td>\n",
       "      <td>NaN</td>\n",
       "      <td>NaN</td>\n",
       "      <td>NaN</td>\n",
       "      <td>NaN</td>\n",
       "      <td>NaN</td>\n",
       "      <td>NaN</td>\n",
       "      <td>NaN</td>\n",
       "      <td>NaN</td>\n",
       "      <td>0</td>\n",
       "    </tr>\n",
       "    <tr>\n",
       "      <th>1</th>\n",
       "      <td>1368d40a4f6e455 - mobile_browser - Quote Completed for customer: 99ccf1 with</td>\n",
       "      <td>99ccf1</td>\n",
       "      <td>1368d40a4f6e455</td>\n",
       "      <td>mobile_browser</td>\n",
       "      <td>Quote Completed for customer</td>\n",
       "      <td>{'name': 'Nicole Berry', 'email': 'Nicole Berry@hotmail.com', 'gender': 'male', 'age': 29, 'home': {'type': 1, 'square_footage': 311.80361967382737, 'number_of_bedrooms': 2, 'number_of_floors': 1}, 'household': [{'name': 'Oscar Berry', 'age': 25, 'gender': 'female'}, {'name': 'Mark Berry', 'age': 10, 'gender': 'female'}, {'name': 'Jacqueline Berry', 'age': 14, 'gender': 'male'}], 'address': '66 Lake Jamieview,PSC '}</td>\n",
       "      <td>NaN</td>\n",
       "      <td>NaN</td>\n",
       "      <td>NaN</td>\n",
       "      <td>NaN</td>\n",
       "      <td>NaN</td>\n",
       "      <td>NaN</td>\n",
       "      <td>NaN</td>\n",
       "      <td>0</td>\n",
       "    </tr>\n",
       "    <tr>\n",
       "      <th>2</th>\n",
       "      <td>90527688b31d445 - mobile_browser - Claim Started for customer: 99ccf1</td>\n",
       "      <td>99ccf1</td>\n",
       "      <td>90527688b31d445</td>\n",
       "      <td>mobile_browser</td>\n",
       "      <td>Claim Started for customer</td>\n",
       "      <td>NaN</td>\n",
       "      <td>NaN</td>\n",
       "      <td>NaN</td>\n",
       "      <td>NaN</td>\n",
       "      <td>NaN</td>\n",
       "      <td>NaN</td>\n",
       "      <td>NaN</td>\n",
       "      <td>NaN</td>\n",
       "      <td>0</td>\n",
       "    </tr>\n",
       "    <tr>\n",
       "      <th>3</th>\n",
       "      <td>c4013f44ea6d40c - mobile_browser - Payment Completed for customer: 99ccf1</td>\n",
       "      <td>99ccf1</td>\n",
       "      <td>c4013f44ea6d40c</td>\n",
       "      <td>mobile_browser</td>\n",
       "      <td>Payment Completed for customer</td>\n",
       "      <td>NaN</td>\n",
       "      <td>NaN</td>\n",
       "      <td>NaN</td>\n",
       "      <td>NaN</td>\n",
       "      <td>NaN</td>\n",
       "      <td>NaN</td>\n",
       "      <td>NaN</td>\n",
       "      <td>NaN</td>\n",
       "      <td>0</td>\n",
       "    </tr>\n",
       "    <tr>\n",
       "      <th>4</th>\n",
       "      <td>8045614075e7466 - pc_browser - Quote Started for customer: 9bae09</td>\n",
       "      <td>9bae09</td>\n",
       "      <td>8045614075e7466</td>\n",
       "      <td>pc_browser</td>\n",
       "      <td>Quote Started for customer</td>\n",
       "      <td>NaN</td>\n",
       "      <td>NaN</td>\n",
       "      <td>NaN</td>\n",
       "      <td>NaN</td>\n",
       "      <td>NaN</td>\n",
       "      <td>NaN</td>\n",
       "      <td>NaN</td>\n",
       "      <td>NaN</td>\n",
       "      <td>0</td>\n",
       "    </tr>\n",
       "  </tbody>\n",
       "</table>\n",
       "</div>"
      ],
      "text/plain": [
       "                                                                         message  \\\n",
       "0          8f70c7577be8483 - mobile_browser - Quote Started for customer: 99ccf1   \n",
       "1  1368d40a4f6e455 - mobile_browser - Quote Completed for customer: 99ccf1 with    \n",
       "2          90527688b31d445 - mobile_browser - Claim Started for customer: 99ccf1   \n",
       "3      c4013f44ea6d40c - mobile_browser - Payment Completed for customer: 99ccf1   \n",
       "4              8045614075e7466 - pc_browser - Quote Started for customer: 9bae09   \n",
       "\n",
       "  customer_id    transaction_id            device  \\\n",
       "0      99ccf1  8f70c7577be8483    mobile_browser    \n",
       "1      99ccf1  1368d40a4f6e455    mobile_browser    \n",
       "2      99ccf1  90527688b31d445    mobile_browser    \n",
       "3      99ccf1  c4013f44ea6d40c    mobile_browser    \n",
       "4      9bae09  8045614075e7466        pc_browser    \n",
       "\n",
       "                            action  \\\n",
       "0       Quote Started for customer   \n",
       "1     Quote Completed for customer   \n",
       "2       Claim Started for customer   \n",
       "3   Payment Completed for customer   \n",
       "4       Quote Started for customer   \n",
       "\n",
       "                                                                                                                                                                                                                                                                                                                                                                                                                           json_payload  \\\n",
       "0                                                                                                                                                                                                                                                                                                                                                                                                                                   NaN   \n",
       "1   {'name': 'Nicole Berry', 'email': 'Nicole Berry@hotmail.com', 'gender': 'male', 'age': 29, 'home': {'type': 1, 'square_footage': 311.80361967382737, 'number_of_bedrooms': 2, 'number_of_floors': 1}, 'household': [{'name': 'Oscar Berry', 'age': 25, 'gender': 'female'}, {'name': 'Mark Berry', 'age': 10, 'gender': 'female'}, {'name': 'Jacqueline Berry', 'age': 14, 'gender': 'male'}], 'address': '66 Lake Jamieview,PSC '}   \n",
       "2                                                                                                                                                                                                                                                                                                                                                                                                                                   NaN   \n",
       "3                                                                                                                                                                                                                                                                                                                                                                                                                                   NaN   \n",
       "4                                                                                                                                                                                                                                                                                                                                                                                                                                   NaN   \n",
       "\n",
       "   name  email  gender  home  age  household  address  fraud  \n",
       "0   NaN    NaN     NaN   NaN  NaN        NaN      NaN      0  \n",
       "1   NaN    NaN     NaN   NaN  NaN        NaN      NaN      0  \n",
       "2   NaN    NaN     NaN   NaN  NaN        NaN      NaN      0  \n",
       "3   NaN    NaN     NaN   NaN  NaN        NaN      NaN      0  \n",
       "4   NaN    NaN     NaN   NaN  NaN        NaN      NaN      0  "
      ]
     },
     "execution_count": 78,
     "metadata": {},
     "output_type": "execute_result"
    }
   ],
   "source": [
    "#fraud dataframe\n",
    "fraud_col = pd.DataFrame(msglog['message'].str.split('fraud').tolist(), columns = ['message', 'fraud'])\n",
    "fraud_col = pd.get_dummies(fraud_col, prefix_sep=\"\", columns=['fraud'])\n",
    "\n",
    "#merge fraud dataframe with msglog\n",
    "msglog['fraud'] = fraud_col['fraud']\n",
    "msglog.head()"
   ]
  },
  {
   "cell_type": "code",
   "execution_count": 79,
   "metadata": {},
   "outputs": [
    {
     "data": {
      "text/plain": [
       "\"\\n\\nredundant VERY slow code\\n\\n\\nstart_time = time.time()\\n\\ndef add_fraud_col(dataframe):\\n    \\n    function that reads the message column in dataframe and adds a fraud column to dataframe. \\n    \\n    1 is fraudulent, 0 is non-fraudulent\\n    \\n    for index, row in dataframe.iterrows():\\n        \\n        #find string\\n        string = str(dataframe.loc[index, 'message'])\\n        \\n        #print(string)\\n        #if string contains a fraud\\n        if(string.find('fraud')!=-1):\\n            \\n            dataframe.loc[index, 'fraud'] = 1\\n            \\nadd_fraud_col(msglog)\\nlog_time = (time.time() - start_time)\\nlog_time\""
      ]
     },
     "execution_count": 79,
     "metadata": {},
     "output_type": "execute_result"
    }
   ],
   "source": [
    "\"\"\"\n",
    "\n",
    "redundant VERY slow code\n",
    "\n",
    "\n",
    "start_time = time.time()\n",
    "\n",
    "def add_fraud_col(dataframe):\n",
    "    \n",
    "    function that reads the message column in dataframe and adds a fraud column to dataframe. \n",
    "    \n",
    "    1 is fraudulent, 0 is non-fraudulent\n",
    "    \n",
    "    for index, row in dataframe.iterrows():\n",
    "        \n",
    "        #find string\n",
    "        string = str(dataframe.loc[index, 'message'])\n",
    "        \n",
    "        #print(string)\n",
    "        #if string contains a fraud\n",
    "        if(string.find('fraud')!=-1):\n",
    "            \n",
    "            dataframe.loc[index, 'fraud'] = 1\n",
    "            \n",
    "add_fraud_col(msglog)\n",
    "log_time = (time.time() - start_time)\n",
    "log_time\"\"\""
   ]
  },
  {
   "cell_type": "markdown",
   "metadata": {},
   "source": [
    "Convert JSON column to dataframe"
   ]
  },
  {
   "cell_type": "code",
   "execution_count": 114,
   "metadata": {},
   "outputs": [
    {
     "ename": "TypeError",
     "evalue": "<lambda>() got an unexpected keyword argument 'axis'",
     "output_type": "error",
     "traceback": [
      "\u001b[0;31m---------------------------------------------------------------------------\u001b[0m",
      "\u001b[0;31mTypeError\u001b[0m                                 Traceback (most recent call last)",
      "\u001b[0;32m<ipython-input-114-c036842e98f3>\u001b[0m in \u001b[0;36m<module>\u001b[0;34m()\u001b[0m\n\u001b[1;32m      1\u001b[0m \u001b[0;32mimport\u001b[0m \u001b[0mast\u001b[0m\u001b[0;34m\u001b[0m\u001b[0;34m\u001b[0m\u001b[0m\n\u001b[0;32m----> 2\u001b[0;31m \u001b[0mtest\u001b[0m\u001b[0;34m[\u001b[0m\u001b[0;34m'json_payload'\u001b[0m\u001b[0;34m]\u001b[0m \u001b[0;34m=\u001b[0m \u001b[0mtest\u001b[0m\u001b[0;34m[\u001b[0m\u001b[0;34m'json_payload'\u001b[0m\u001b[0;34m]\u001b[0m\u001b[0;34m.\u001b[0m\u001b[0mapply\u001b[0m\u001b[0;34m(\u001b[0m\u001b[0;32mlambda\u001b[0m \u001b[0mx\u001b[0m\u001b[0;34m:\u001b[0m \u001b[0mast\u001b[0m\u001b[0;34m.\u001b[0m\u001b[0mliteral_eval\u001b[0m\u001b[0;34m(\u001b[0m\u001b[0mx\u001b[0m\u001b[0;34m)\u001b[0m\u001b[0;34m,\u001b[0m \u001b[0maxis\u001b[0m\u001b[0;34m=\u001b[0m\u001b[0;36m1\u001b[0m\u001b[0;34m)\u001b[0m\u001b[0;34m\u001b[0m\u001b[0;34m\u001b[0m\u001b[0m\n\u001b[0m\u001b[1;32m      3\u001b[0m \u001b[0mtest\u001b[0m\u001b[0;34m.\u001b[0m\u001b[0mhead\u001b[0m\u001b[0;34m(\u001b[0m\u001b[0;34m)\u001b[0m\u001b[0;34m\u001b[0m\u001b[0;34m\u001b[0m\u001b[0m\n",
      "\u001b[0;32m/anaconda3/lib/python3.7/site-packages/pandas/core/series.py\u001b[0m in \u001b[0;36mapply\u001b[0;34m(self, func, convert_dtype, args, **kwds)\u001b[0m\n\u001b[1;32m   3589\u001b[0m             \u001b[0;32melse\u001b[0m\u001b[0;34m:\u001b[0m\u001b[0;34m\u001b[0m\u001b[0;34m\u001b[0m\u001b[0m\n\u001b[1;32m   3590\u001b[0m                 \u001b[0mvalues\u001b[0m \u001b[0;34m=\u001b[0m \u001b[0mself\u001b[0m\u001b[0;34m.\u001b[0m\u001b[0mastype\u001b[0m\u001b[0;34m(\u001b[0m\u001b[0mobject\u001b[0m\u001b[0;34m)\u001b[0m\u001b[0;34m.\u001b[0m\u001b[0mvalues\u001b[0m\u001b[0;34m\u001b[0m\u001b[0;34m\u001b[0m\u001b[0m\n\u001b[0;32m-> 3591\u001b[0;31m                 \u001b[0mmapped\u001b[0m \u001b[0;34m=\u001b[0m \u001b[0mlib\u001b[0m\u001b[0;34m.\u001b[0m\u001b[0mmap_infer\u001b[0m\u001b[0;34m(\u001b[0m\u001b[0mvalues\u001b[0m\u001b[0;34m,\u001b[0m \u001b[0mf\u001b[0m\u001b[0;34m,\u001b[0m \u001b[0mconvert\u001b[0m\u001b[0;34m=\u001b[0m\u001b[0mconvert_dtype\u001b[0m\u001b[0;34m)\u001b[0m\u001b[0;34m\u001b[0m\u001b[0;34m\u001b[0m\u001b[0m\n\u001b[0m\u001b[1;32m   3592\u001b[0m \u001b[0;34m\u001b[0m\u001b[0m\n\u001b[1;32m   3593\u001b[0m         \u001b[0;32mif\u001b[0m \u001b[0mlen\u001b[0m\u001b[0;34m(\u001b[0m\u001b[0mmapped\u001b[0m\u001b[0;34m)\u001b[0m \u001b[0;32mand\u001b[0m \u001b[0misinstance\u001b[0m\u001b[0;34m(\u001b[0m\u001b[0mmapped\u001b[0m\u001b[0;34m[\u001b[0m\u001b[0;36m0\u001b[0m\u001b[0;34m]\u001b[0m\u001b[0;34m,\u001b[0m \u001b[0mSeries\u001b[0m\u001b[0;34m)\u001b[0m\u001b[0;34m:\u001b[0m\u001b[0;34m\u001b[0m\u001b[0;34m\u001b[0m\u001b[0m\n",
      "\u001b[0;32mpandas/_libs/lib.pyx\u001b[0m in \u001b[0;36mpandas._libs.lib.map_infer\u001b[0;34m()\u001b[0m\n",
      "\u001b[0;32m/anaconda3/lib/python3.7/site-packages/pandas/core/series.py\u001b[0m in \u001b[0;36mf\u001b[0;34m(x)\u001b[0m\n\u001b[1;32m   3576\u001b[0m         \u001b[0;32mif\u001b[0m \u001b[0mkwds\u001b[0m \u001b[0;32mor\u001b[0m \u001b[0margs\u001b[0m \u001b[0;32mand\u001b[0m \u001b[0;32mnot\u001b[0m \u001b[0misinstance\u001b[0m\u001b[0;34m(\u001b[0m\u001b[0mfunc\u001b[0m\u001b[0;34m,\u001b[0m \u001b[0mnp\u001b[0m\u001b[0;34m.\u001b[0m\u001b[0mufunc\u001b[0m\u001b[0;34m)\u001b[0m\u001b[0;34m:\u001b[0m\u001b[0;34m\u001b[0m\u001b[0;34m\u001b[0m\u001b[0m\n\u001b[1;32m   3577\u001b[0m             \u001b[0;32mdef\u001b[0m \u001b[0mf\u001b[0m\u001b[0;34m(\u001b[0m\u001b[0mx\u001b[0m\u001b[0;34m)\u001b[0m\u001b[0;34m:\u001b[0m\u001b[0;34m\u001b[0m\u001b[0;34m\u001b[0m\u001b[0m\n\u001b[0;32m-> 3578\u001b[0;31m                 \u001b[0;32mreturn\u001b[0m \u001b[0mfunc\u001b[0m\u001b[0;34m(\u001b[0m\u001b[0mx\u001b[0m\u001b[0;34m,\u001b[0m \u001b[0;34m*\u001b[0m\u001b[0margs\u001b[0m\u001b[0;34m,\u001b[0m \u001b[0;34m**\u001b[0m\u001b[0mkwds\u001b[0m\u001b[0;34m)\u001b[0m\u001b[0;34m\u001b[0m\u001b[0;34m\u001b[0m\u001b[0m\n\u001b[0m\u001b[1;32m   3579\u001b[0m         \u001b[0;32melse\u001b[0m\u001b[0;34m:\u001b[0m\u001b[0;34m\u001b[0m\u001b[0;34m\u001b[0m\u001b[0m\n\u001b[1;32m   3580\u001b[0m             \u001b[0mf\u001b[0m \u001b[0;34m=\u001b[0m \u001b[0mfunc\u001b[0m\u001b[0;34m\u001b[0m\u001b[0;34m\u001b[0m\u001b[0m\n",
      "\u001b[0;31mTypeError\u001b[0m: <lambda>() got an unexpected keyword argument 'axis'"
     ]
    }
   ],
   "source": [
    "\"\"\"test = msglog.head(500)\n",
    "x = ast.literal_eval(test['json_payload'][1])\n",
    "x\n",
    "\n",
    "import ast\n",
    "test['json_payload'] = test['json_payload'].apply(lambda x: ast.literal_eval(x), axis=1)\n",
    "test.head()\n",
    "\n",
    "\n",
    "test['json_payload'][1] = test['json_payload'][1].to_dict()\n",
    "print(test['json_payload'][1])\n",
    "testing = json_normalize(test['json_payload'][1])\n",
    "\n",
    "#testing = pd.DataFrame(test['json_payload'].str.split('name').tolist(), columns = ['message'])\n",
    "testing.head()\n",
    "\"\"\""
   ]
  },
  {
   "cell_type": "code",
   "execution_count": 33,
   "metadata": {},
   "outputs": [],
   "source": [
    "def JSON_to_dataframe(dataframe, column_name, begins_with):\n",
    "    \n",
    "    \"\"\"\n",
    "    function to extract relevant data from string and add them to dataframe.\n",
    "    \n",
    "    Data extracted from column name specified by column_name and entered into dataframe at \n",
    "    \n",
    "    column = begins_with + [name extracted from JSON string].\n",
    "    \"\"\"\n",
    "    \n",
    "    for index, row in dataframe.iterrows():\n",
    "        \n",
    "        #find string\n",
    "        string = str(dataframe.loc[index, column_name])\n",
    "    \n",
    "        #if string contains a {\n",
    "        if(string.find(\"{\")!=-1):\n",
    "            \n",
    "            #replace all single quotes with double quotes (doesn't work otherwise idk why)\n",
    "            string = string.replace(\"'\", '\"')\n",
    "\n",
    "            #read data into json parser\n",
    "            data = json.loads(string)\n",
    "            \n",
    "            #copy name, email etc. into relevant columns\n",
    "            for keys in data.keys():\n",
    "\n",
    "                #column\n",
    "                column = begins_with + str(keys)\n",
    "\n",
    "                #copy name, email etc. into dataframe\n",
    "                dataframe.loc[index, column] = str(data[str(keys)])"
   ]
  },
  {
   "cell_type": "code",
   "execution_count": null,
   "metadata": {
    "scrolled": true
   },
   "outputs": [],
   "source": [
    "start_time = time.time()\n",
    "\n",
    "#extract data from json_payload\n",
    "JSON_to_dataframe(dataframe = msglog, column_name = 'json_payload', begins_with = '')\n",
    "\n",
    "#extract data from home\n",
    "JSON_to_dataframe(dataframe = msglog, column_name = 'home', begins_with = 'home_')\n",
    "\n",
    "#drop unnecessary columns\n",
    "if('message' in msglog.columns): \n",
    "    msglog = msglog.drop('message', axis=1)\n",
    "if('json_payload' in msglog.columns): \n",
    "    msglog = msglog.drop('json_payload', axis=1)\n",
    "if('home' in msglog.columns): \n",
    "    msglog = msglog.drop('home', axis=1)\n",
    "    \n",
    "log_time = (time.time() - start_time)\n",
    "log_time"
   ]
  },
  {
   "cell_type": "markdown",
   "metadata": {},
   "source": [
    "Group customers by customer_id"
   ]
  },
  {
   "cell_type": "code",
   "execution_count": null,
   "metadata": {
    "scrolled": true
   },
   "outputs": [],
   "source": [
    "#group by customer_id\n",
    "grouped = msglog.groupby([\"transaction_id\", \"device\", \"action\", \"name\", \"email\", \"gender\", \"age\", \"household\", \"address\", \"home_type\", \"home_square_footage\", \"home_number_of_bedrooms\", \"home_number_of_floors\"], as_index = False)[[\"customer_id\"]].sum()\n",
    "grouped.head(3)"
   ]
  },
  {
   "cell_type": "markdown",
   "metadata": {},
   "source": [
    "Creating fraud table that shows: unique customer_id and a 1/0 for fraud"
   ]
  },
  {
   "cell_type": "code",
   "execution_count": null,
   "metadata": {
    "scrolled": true
   },
   "outputs": [],
   "source": [
    "customer_fraud = msglog[['customer_id', 'fraud']]\n",
    "\n",
    "#group fraudulent customers by 'customer_id' (probs a better method tbh)\n",
    "fraudulent = customer_fraud.pivot_table(index=['customer_id'], aggfunc=sum)\n",
    "fraudulent['customer_id1'] = fraudulent.index\n",
    "fraudulent.index = range(fraudulent.shape[0])\n",
    "\n",
    "#merge df: 'grouped' and 'fraudulent' on 'customer_id'\n",
    "merged = pd.merge(grouped, fraudulent, left_on='customer_id', right_on='customer_id1', how='left').drop('customer_id1',axis = 1)\n",
    "merged.head(2)"
   ]
  },
  {
   "cell_type": "markdown",
   "metadata": {},
   "source": [
    "Converting household data to a useable df"
   ]
  },
  {
   "cell_type": "code",
   "execution_count": null,
   "metadata": {
    "scrolled": false
   },
   "outputs": [],
   "source": [
    "start_time = time.time()\n",
    "\n",
    "import ast\n",
    "def household_to_dataframe(dataframe):\n",
    "    \n",
    "    \"\"\"\n",
    "    function to create dataframe from household column\n",
    "    \"\"\"\n",
    "    \n",
    "    #create new df\n",
    "    new_df = pd.DataFrame(columns = ['customer_id', 'name', 'age', 'gender'])\n",
    "    \n",
    "    for row in range(dataframe.shape[0]):\n",
    "        \n",
    "        #print(\"rows = {}\".format(row))\n",
    "        #print(\"length = {}\".format(dataframe.shape[0]))\n",
    "        \n",
    "        #get current string\n",
    "        string = dataframe['household'][row]\n",
    "        \n",
    "        #save customer_id\n",
    "        customer_id = dataframe['customer_id'][row]\n",
    "        \n",
    "        #convert string to dict\n",
    "        dictionary = ast.literal_eval(string)\n",
    "        \n",
    "        #use json_normalize to create df \n",
    "        normalized_frame = json_normalize(data = dictionary)\n",
    "        \n",
    "        #read in customer_id\n",
    "        normalized_frame['customer_id'] = customer_id\n",
    "        \n",
    "        #print(normalized_frame)\n",
    "        \n",
    "        #append json_normalize df to new_df\n",
    "        new_df = new_df.append(normalized_frame, ignore_index = True)\n",
    "        \n",
    "        #print(new_df)\n",
    "        \n",
    "    return new_df\n",
    "  \n",
    "#convert household to useable df\n",
    "occupants_df = household_to_dataframe(merged)\n",
    "occupants_df = occupants_df.rename(index=str, columns={\"age\": \"occupant_age\", \"gender\": \"occupant_gender\", \"name\": \"occupant_name\"})\n",
    "\n",
    "#merge useable df with complete df\n",
    "merged_final = pd.merge(occupants_df, merged, left_on = 'customer_id', right_on='customer_id', how='left').drop('household', axis =1)\n",
    "merged_final.head(2)\n",
    "\n",
    "log_time = (time.time() - start_time)\n",
    "log_time"
   ]
  },
  {
   "cell_type": "markdown",
   "metadata": {},
   "source": [
    "Seperate names for holders and occupants into 'first_name' 'last_name'"
   ]
  },
  {
   "cell_type": "code",
   "execution_count": null,
   "metadata": {
    "scrolled": true
   },
   "outputs": [],
   "source": [
    "#occupants\n",
    "merged_final.loc[merged_final['occupant_name'].str.split().str.len() == 2, 'occupant_first_name'] = merged_final['occupant_name'].str.split().str[0]\n",
    "merged_final.loc[merged_final['occupant_name'].str.split().str.len() == 2, 'occupant_last_name'] = merged_final['occupant_name'].str.split().str[-1]\n",
    "\n",
    "#holders\n",
    "merged_final.loc[merged_final['name'].str.split().str.len() == 2, 'holder_first_name'] = merged_final['name'].str.split().str[0]\n",
    "merged_final.loc[merged_final['name'].str.split().str.len() == 2, 'holder_last_name'] = merged_final['name'].str.split().str[-1]\n",
    "\n",
    "#drop unnecessary columns\n",
    "if('occupant_name' in merged_final.columns):\n",
    "    merged_final = merged_final.drop('occupant_name', axis = 1)\n",
    "    \n",
    "if('name' in merged_final.columns):\n",
    "    merged_final = merged_final.drop('name', axis = 1)\n",
    "    \n",
    "#rename 'gender' to 'holder_gender'\n",
    "merged_final = merged_final.rename(index=str, columns={'gender': 'holder_gender', 'age': 'holder_age', 'email': 'holder_email',})\n",
    "\n",
    "#move columns (to make it easier to read)\n",
    "merged_final = merged_final[['transaction_id', 'device', 'action', 'customer_id', 'holder_first_name', 'holder_last_name', 'holder_gender', 'holder_email', 'holder_age', 'address', 'home_type', 'home_square_footage', 'home_number_of_bedrooms', 'home_number_of_floors', 'occupant_first_name', 'occupant_last_name', 'occupant_gender', 'occupant_age', 'fraud']]\n",
    "\n",
    "merged_final.head(2)"
   ]
  },
  {
   "cell_type": "markdown",
   "metadata": {},
   "source": [
    "Seperate address into street number, street name and suburb"
   ]
  },
  {
   "cell_type": "code",
   "execution_count": null,
   "metadata": {},
   "outputs": [],
   "source": [
    "#find street, number and suburb from address column\n",
    "address_sep = pd.DataFrame(merged_final['address'].str.split(',',2).tolist(), columns = ['street', 'suburb'])\n",
    "address_sep['number'] = pd.DataFrame(address_sep['street'].str.split().str[0])\n",
    "address_sep['street'] = pd.DataFrame(address_sep['street'].str.split().str[1:])\n",
    "address_sep.head()\n",
    "\n",
    "#merge with complete dataframe\n",
    "#not finished\n"
   ]
  },
  {
   "cell_type": "markdown",
   "metadata": {},
   "source": [
    "Seperate email into email_provider and email_prefix"
   ]
  },
  {
   "cell_type": "code",
   "execution_count": null,
   "metadata": {},
   "outputs": [],
   "source": [
    "email_df = pd.DataFrame(merged_final['holder_email'].str.split('@',2).tolist(), columns = ['email_prefix', 'email_provider'])\n",
    "\n",
    "#merged_final.insert(7, 'email_prefix', email_df[['email_prefix']])\n",
    "merged_final.head()\n",
    "\n",
    "#not finished\n",
    "\n",
    "\n"
   ]
  },
  {
   "cell_type": "markdown",
   "metadata": {},
   "source": [
    "# Graphs\n"
   ]
  },
  {
   "cell_type": "markdown",
   "metadata": {},
   "source": [
    "graphs to get an idea of the data"
   ]
  },
  {
   "cell_type": "code",
   "execution_count": null,
   "metadata": {},
   "outputs": [],
   "source": [
    "def bar_plot(count, title):\n",
    "    \n",
    "    \"\"\"\n",
    "    function that creates bar plot from value_counts of variable. Just makes graphing easier.\n",
    "    \"\"\"\n",
    "    \n",
    "    x = count.index\n",
    "    y = count.values\n",
    "    plt.figure(figsize=(10,5))\n",
    "    sns.barplot(x,y,palette='rocket')\n",
    "    plt.title(title)\n",
    "    \n",
    "def bar_plot_horizontal(count, title):\n",
    "    \n",
    "    \"\"\"\n",
    "    function that creates a horizontal bar plot from value_counts of variable. Just makes graphing easier.\n",
    "    \"\"\"\n",
    "    \n",
    "    y = count.index\n",
    "    x = count.values\n",
    "    plt.figure(figsize=(20,10))\n",
    "    b = sns.barplot(x,y,palette='rocket')\n",
    "    plt.title(title)\n",
    "    "
   ]
  },
  {
   "cell_type": "code",
   "execution_count": null,
   "metadata": {
    "scrolled": true
   },
   "outputs": [],
   "source": [
    "bar_plot(merged_final['device'].value_counts(ascending = True), '')"
   ]
  },
  {
   "cell_type": "code",
   "execution_count": null,
   "metadata": {
    "scrolled": true
   },
   "outputs": [],
   "source": [
    "bar_plot(merged_final['fraud'].value_counts(ascending = True), 'Fraud Distributions \\n (0: No Fraud, 1: Fraud)')"
   ]
  },
  {
   "cell_type": "markdown",
   "metadata": {},
   "source": [
    "Analysing only the fraudulent customers"
   ]
  },
  {
   "cell_type": "code",
   "execution_count": null,
   "metadata": {},
   "outputs": [],
   "source": [
    "#fraudulent customers only\n",
    "fraud_df = merged_final[merged_final['fraud'] == 1]\n",
    "fraud_df.index = range(fraud_df.shape[0])"
   ]
  },
  {
   "cell_type": "code",
   "execution_count": null,
   "metadata": {
    "scrolled": true
   },
   "outputs": [],
   "source": [
    "#graph of males and females\n",
    "bar_plot(fraud_df['holder_gender'].value_counts(ascending = True), \"\")"
   ]
  },
  {
   "cell_type": "code",
   "execution_count": null,
   "metadata": {},
   "outputs": [],
   "source": [
    "bar_plot_horizontal(fraud_df['address'].value_counts(ascending = True), '')"
   ]
  },
  {
   "cell_type": "code",
   "execution_count": null,
   "metadata": {},
   "outputs": [],
   "source": [
    "non_fraud_df = merged_final[merged_final['fraud']==0]"
   ]
  },
  {
   "cell_type": "markdown",
   "metadata": {},
   "source": [
    "# Genderize (section doesn't work) not finished"
   ]
  },
  {
   "cell_type": "markdown",
   "metadata": {},
   "source": [
    "Gender discrepancies between people. Annoyingly, this thing is limited to like 10 calls per day, but it's probably the most useful variable in the df."
   ]
  },
  {
   "cell_type": "code",
   "execution_count": null,
   "metadata": {
    "scrolled": true
   },
   "outputs": [],
   "source": [
    "#not finished\n",
    "#this cell never works idk why\n",
    "#don't call this cell more than like 10 times (Genderize() only allows a certain number of calls)\n",
    "\n",
    "#find gender of fraudulent customers and occupantst\n",
    "from genderize import Genderize\n",
    "\n",
    "#dataframe of predicted gender for occupants\n",
    "gender_predict_holders_df = json_normalize(Genderize().get(merged_final['occupant_first_name']))\n",
    "\n",
    "#dataframe of predicted gender for holders\n",
    "gender_predict_occupants_df = json_normalize(Genderize().get(merged_final['holder_first_name']))"
   ]
  },
  {
   "cell_type": "code",
   "execution_count": null,
   "metadata": {
    "scrolled": true
   },
   "outputs": [],
   "source": [
    "#cell doesn't work either\n",
    "#predicted gender for occupants\n",
    "gender_predict_occupants_df = gender_predict_occupants_df.rename(index=str, columns={'gender': 'occupant_predicted_gender', 'probability': 'occupant_gender_probability'})\n",
    "gender_predict_occupants_df.head()\n",
    "\n",
    "#predicted gender for holders\n",
    "gender_predict_holders_df = gender_predict_holders_df.rename(index=str, columns={'gender': 'holder_predicted_gender', 'probability': 'holder_gender_probability'})\n",
    "gender_predict_holders_df.head()\n",
    "\n",
    "#merge with final dataframe and reorder columns for readability\n",
    "merged_final.insert(7, 'holder_predicted_gender', gender_predict_holders_df[['holder_predicted_gender']])\n",
    "merged_final.insert(8, 'holder_gender_probability', gender_predict_holders_df[['holder_gender_probability']])\n",
    "merged_final.insert(19, 'occupant_predicted_gender', gender_predict_occupants_df[['occupant_predicted_gender']])\n",
    "merged_final.insert(20, 'occupant_gender_probability', gender_predict_occupants_df[['occupant_gender_probability']])"
   ]
  },
  {
   "cell_type": "markdown",
   "metadata": {},
   "source": [
    "# Encoding"
   ]
  },
  {
   "cell_type": "markdown",
   "metadata": {},
   "source": [
    "one hot encode different columns. If genderize isn't working use the 2nd cell otherwise use the first cell. \\n\n",
    "not sure if label encoding is better or not"
   ]
  },
  {
   "cell_type": "code",
   "execution_count": null,
   "metadata": {},
   "outputs": [],
   "source": [
    "\"\"\"\n",
    "not finished\n",
    "use if genderize is working (includes all variables)\n",
    "\n",
    "#one hot encode\n",
    "merged_final = pd.get_dummies(merged_final, prefix_sep=\"_\", columns=['holder_gender', 'holder_predicted_gender', 'occupant_gender', 'occupant_predicted_gender'])\n",
    "merged_final = merged_final[['transaction_id', 'device', 'action', 'customer_id', 'holder_first_name', 'holder_last_name', 'holder_gender_female', 'holder_gender_male', 'holder_predicted_gender_female', 'holder_predicted_gender_male', 'holder_gender_probability', 'holder_email', 'holder_age', 'address', 'home_type', 'home_square_footage', 'home_number_of_bedrooms', 'home_number_of_floors', 'occupant_first_name', 'occupant_last_name', 'occupant_gender_female', 'occupant_gender_male', 'occupant_predicted_gender_female', 'occupant_predicted_gender_male', 'occupant_gender_probability', 'occupant_age', 'fraud']]                        \n",
    "merged_final = pd.get_dummies(merged_final, prefix_sep=\"_\", columns=['device'])\n",
    "\n",
    "merged_final.head()\n",
    "\n",
    "\n",
    "\"\"\""
   ]
  },
  {
   "cell_type": "code",
   "execution_count": null,
   "metadata": {
    "scrolled": false
   },
   "outputs": [],
   "source": [
    "#if genderize isn't working\n",
    "\n",
    "#one hot encode\n",
    "merged_final = merged_final[['transaction_id', 'device', 'action', 'customer_id', 'holder_first_name', 'holder_last_name', 'holder_email', 'holder_age', 'address', 'home_type', 'home_square_footage', 'home_number_of_bedrooms', 'home_number_of_floors', 'occupant_first_name', 'occupant_last_name', 'occupant_age', 'fraud']]                        \n",
    "merged_final = pd.get_dummies(merged_final, prefix_sep=\"_\", columns=['device', 'home_type', 'home_number_of_bedrooms', 'home_number_of_floors'])\n",
    "merged_final = merged_final.drop('home_number_of_floors_1', axis = 1)\n",
    "merged_final.head()"
   ]
  },
  {
   "cell_type": "markdown",
   "metadata": {},
   "source": [
    "holder_age, home_square_footage, occupant_age are stored as strings. Convert these to float."
   ]
  },
  {
   "cell_type": "code",
   "execution_count": null,
   "metadata": {},
   "outputs": [],
   "source": [
    "merged_final['home_square_footage'] = merged_final['home_square_footage'].astype(float)\n",
    "merged_final['holder_age'] = merged_final['holder_age'].astype(float)\n",
    "merged_final['occupant_age'] = merged_final['occupant_age'].astype(float)"
   ]
  },
  {
   "cell_type": "markdown",
   "metadata": {},
   "source": [
    "# Splitting the Data"
   ]
  },
  {
   "cell_type": "markdown",
   "metadata": {},
   "source": [
    "Split into train and test sets\n",
    "adapted from: https://www.kaggle.com/janiobachmann/credit-fraud-dealing-with-imbalanced-datasets"
   ]
  },
  {
   "cell_type": "code",
   "execution_count": null,
   "metadata": {},
   "outputs": [],
   "source": [
    "from sklearn.model_selection import train_test_split\n",
    "from sklearn.model_selection import StratifiedShuffleSplit\n",
    "from sklearn.model_selection import StratifiedKFold\n",
    "\n",
    "print('No Frauds', round(merged_final['fraud'].value_counts()[0]/len(merged_final) * 100,2), '% of the dataset')\n",
    "print('Frauds', round(merged_final['fraud'].value_counts()[1]/len(merged_final) * 100,2), '% of the dataset')\n",
    "\n",
    "X = merged_final.drop(['fraud', 'transaction_id', 'action', 'customer_id', 'holder_first_name', 'holder_last_name', 'holder_email', 'address', 'occupant_first_name', 'occupant_last_name', ], axis=1)\n",
    "Y = merged_final['fraud']\n",
    "\n",
    "#split data into training and testing sets in a 80:20 ratio\n",
    "trainX, testX, trainY, testY = train_test_split(X, Y, test_size = 0.2, random_state = 5)\n",
    "trainX.head()"
   ]
  },
  {
   "cell_type": "markdown",
   "metadata": {},
   "source": [
    "Create sample dataframe (of 1000 entries). Dataframe is balanced: 500 fraudulent entries and 500 non-fraudulent entries. "
   ]
  },
  {
   "cell_type": "code",
   "execution_count": null,
   "metadata": {},
   "outputs": [],
   "source": [
    "def shuffle_dataframe(dataframe):\n",
    "    \n",
    "    \"\"\"\n",
    "    function to shuffle a dataframe.\n",
    "    \n",
    "    Uses random state = 42 and frac = 1\n",
    "    \"\"\"\n",
    "\n",
    "    return dataframe.sample(frac = 1, random_state = 42)\n",
    "\n",
    "def balanced_sample(df):\n",
    "    \n",
    "    \"\"\"\n",
    "    function that creates a sample of 1000 entries. \n",
    "    \n",
    "    The sample is balanced so it has 500 fraudulent entries and 500 non-fraudulent entries.\n",
    "    \n",
    "    If the dataframe entered is too small the function will aim to deliver equal amounts of fraud and non-fraudulent entries\n",
    "    \"\"\"\n",
    "    \n",
    "    #get fraud df\n",
    "    fraud_df = df.loc[df['fraud'] == 1][:500]\n",
    "    \n",
    "    #get non_fraud df\n",
    "    non_fraud_df = df.loc[df['fraud'] == 0][:len(fraud_df)]\n",
    "    \n",
    "    #concat both df\n",
    "    normal_distributed_df = pd.concat([fraud_df, non_fraud_df])\n",
    "\n",
    "    #shuffle dataframe\n",
    "    new_df = shuffle_dataframe(normal_distributed_df)\n",
    "\n",
    "    return new_df\n",
    "\n",
    "#for testing purposes create sample dataframe\n",
    "#shuffle and balance this dataframe\n",
    "\n",
    "sample = balanced_sample(shuffle_dataframe(merged_final))\n",
    "bar_plot(sample['fraud'].value_counts(ascending = True), 'Distribution of the Classes in the subsample dataset')"
   ]
  },
  {
   "cell_type": "markdown",
   "metadata": {},
   "source": [
    "# Correlation Matrix"
   ]
  },
  {
   "cell_type": "markdown",
   "metadata": {},
   "source": [
    "To find which features are helpful in predicting fraud"
   ]
  },
  {
   "cell_type": "code",
   "execution_count": null,
   "metadata": {},
   "outputs": [],
   "source": [
    "#copied from: https://www.kaggle.com/janiobachmann/credit-fraud-dealing-with-imbalanced-datasets\n",
    "\n",
    "f, (ax1, ax2) = plt.subplots(2, 1, figsize=(24,20))\n",
    "\n",
    "#change font size\n",
    "plt.rcParams.update({'font.size': 20})\n",
    "\n",
    "# Entire DataFrame\n",
    "corr = merged_final.corr()\n",
    "sns.heatmap(corr, cmap='coolwarm_r', annot_kws={'size':20}, ax=ax1)\n",
    "ax1.set_title(\"Imbalanced Correlation Matrix \\n (don't use for reference)\", fontsize=14)\n",
    "\n",
    "sub_sample_corr = sample.corr()\n",
    "sns.heatmap(sub_sample_corr, cmap='coolwarm_r', annot_kws={'size':20}, ax=ax2)\n",
    "ax2.set_title('SubSample Correlation Matrix \\n (use for reference)', fontsize=14)\n",
    "plt.show()"
   ]
  },
  {
   "cell_type": "markdown",
   "metadata": {},
   "source": [
    "There seems to be a correlation between using a mobile_app or mobiel browser and committing insurance fraud. There also seems to be a strong correlation between having a home_type of 1 and committing insurance fraud."
   ]
  },
  {
   "cell_type": "markdown",
   "metadata": {},
   "source": [
    "Comparing fradulent customers with genuine customers in order to find which variables are useful. Will use heatmap to conduct analysis."
   ]
  },
  {
   "cell_type": "code",
   "execution_count": null,
   "metadata": {},
   "outputs": [],
   "source": [
    "#copied from: https://www.kaggle.com/arjunjoshua/predicting-fraud-in-financial-payment-services\n",
    "def correlation_matrix_contrasting(X, Y):\n",
    "    \n",
    "    \"\"\"\n",
    "    function to make two correlation matrices. \n",
    "    \n",
    "    One of only fraudulent entries and another with only genuine entries. \n",
    "    \n",
    "    Takes Y vector as a fraud column, and X matrix as the other variables.\n",
    "    \"\"\"\n",
    "    \n",
    "    Xfraud = X.loc[Y == 1] # update Xfraud & XnonFraud with cleaned data\n",
    "    XnonFraud = X.loc[Y == 0]\n",
    "\n",
    "    correlationNonFraud = XnonFraud.loc[:, X.columns != 'fraud'].corr()\n",
    "    mask = np.zeros_like(correlationNonFraud)\n",
    "    indices = np.triu_indices_from(correlationNonFraud)\n",
    "    mask[indices] = True\n",
    "\n",
    "    grid_kws = {'width_ratios': (.9, .9, .05), 'wspace': 0.2}\n",
    "    f, (ax1, ax2, cbar_ax) = plt.subplots(1, 3, gridspec_kw=grid_kws, figsize = (14, 9))\n",
    "\n",
    "    cmap = sns.diverging_palette(220, 8, as_cmap = True)\n",
    "    ax1 = sns.heatmap(correlationNonFraud, ax = ax1, vmin = -1, vmax = 1, cmap = cmap, square = False, linewidths = 0.5, mask = mask, cbar = False)\n",
    "    ax1.set_xticklabels(ax1.get_xticklabels(), size = 16)\n",
    "    ax1.set_yticklabels(ax1.get_yticklabels(), size = 16)\n",
    "    ax1.set_title('Genuine \\n transactions', size = 20)\n",
    "\n",
    "    correlationFraud = Xfraud.loc[:, X.columns != 'fraud'].corr()\n",
    "    ax2 = sns.heatmap(correlationFraud, vmin = -1, vmax = 1, cmap = cmap, ax = ax2, square = False, linewidths = 0.5, mask = mask, yticklabels = False, cbar_ax = cbar_ax, cbar_kws={'orientation': 'vertical', 'ticks': [-1, -0.5, 0, 0.5, 1]})\n",
    "    ax2.set_xticklabels(ax2.get_xticklabels(), size = 16)\n",
    "    ax2.set_title('Fraudulent \\n transactions', size = 20)\n",
    "\n",
    "    cbar_ax.set_yticklabels(cbar_ax.get_yticklabels(), size = 14)\n",
    "    \n",
    "correlation_matrix_contrasting(merged_final.drop('fraud', axis = 1), merged_final['fraud'])\n"
   ]
  },
  {
   "cell_type": "markdown",
   "metadata": {},
   "source": [
    "Clearly, there is a huge difference in correlation of variables between fraudulent and genuine entries. This should be useful in providing a trend from which we can build ML models"
   ]
  },
  {
   "cell_type": "markdown",
   "metadata": {},
   "source": [
    "# Model 1: XGBoost \n",
    "copied from: https://www.kaggle.com/arjunjoshua/predicting-fraud-in-financial-payment-services"
   ]
  },
  {
   "cell_type": "markdown",
   "metadata": {},
   "source": [
    "\n",
    "\"*Selection of ML algorithm*: A first approach to deal with imbalanced data is to balance it by discarding the majority class before applying an ML algorithm. The disadvantage of  undersampling is that a model trained in this way will not perform well on real-world skewed test data since almost all the information was discarded. A better approach might be to oversample the minority class, say by the synthetic minority oversampling technique (SMOTE) contained in the 'imblearn' library. Motivated by this, I tried a variety of anomaly-detection and supervised learning approaches. I find, however, that the best result is obtained on the original dataset by using a ML algorithm based on ensembles of decision trees that intrinsically performs well on imbalanced data. Such algorithms not only allow for constructing a model that can cope with the missing values in our data, but they naturally allow for speedup via parallel-processing. Among these algorithms, the extreme gradient-boosted (XGBoost) algorithm used below slightly outperforms random-forest. Finally, XGBoost, like several other ML algorithms, allows for weighting the positive class more compared to the negative class --- a setting that also allows to account for the skew in the data.\" - https://www.kaggle.com/arjunjoshua/predicting-fraud-in-financial-payment-services"
   ]
  },
  {
   "cell_type": "code",
   "execution_count": null,
   "metadata": {},
   "outputs": [],
   "source": [
    "#takes a while\n",
    "\n",
    "import xgboost as xgb\n",
    "from sklearn.model_selection import train_test_split, learning_curve\n",
    "from sklearn.metrics import average_precision_score\n",
    "\n",
    "weights = (Y == 0).sum() / (1.0 * (Y == 1).sum())\n",
    "clf = xgb.XGBClassifier(max_depth = 3, scale_pos_weight = weights, n_jobs = 4)\n",
    "probabilities = clf.fit(trainX, trainY).predict_proba(testX)\n",
    "print('AUPRC = {}'.format(average_precision_score(testY, probabilities[:, 1])))"
   ]
  },
  {
   "cell_type": "code",
   "execution_count": null,
   "metadata": {
    "scrolled": true
   },
   "outputs": [],
   "source": [
    "fig = plt.figure(figsize = (14, 9))\n",
    "ax = fig.add_subplot(111)\n",
    "\n",
    "colours = plt.cm.Set1(np.linspace(0, 1, 9))\n",
    "\n",
    "ax = xgb.plot_importance(clf, height = 1, color = colours, grid = False, \\\n",
    "                     show_values = False, importance_type = 'cover', ax = ax);\n",
    "for axis in ['top','bottom','left','right']:\n",
    "            ax.spines[axis].set_linewidth(2)\n",
    "        \n",
    "ax.set_xlabel('importance score', size = 16);\n",
    "ax.set_ylabel('features', size = 16);\n",
    "ax.set_yticklabels(ax.get_yticklabels(), size = 12);\n",
    "ax.set_title('Ordering of features by importance to the model learnt', size = 20);"
   ]
  },
  {
   "cell_type": "markdown",
   "metadata": {},
   "source": [
    "Visualisation of ML model"
   ]
  },
  {
   "cell_type": "code",
   "execution_count": null,
   "metadata": {},
   "outputs": [],
   "source": [
    "xgb.to_graphviz(clf)"
   ]
  },
  {
   "cell_type": "markdown",
   "metadata": {},
   "source": [
    "Make predictions using model"
   ]
  },
  {
   "cell_type": "code",
   "execution_count": null,
   "metadata": {},
   "outputs": [],
   "source": [
    "#copied from: https://www.kaggle.com/janiobachmann/credit-fraud-dealing-with-imbalanced-datasets\n",
    "\n",
    "y_pred_xgb = clf.predict(testX)\n",
    "predictions = [i for i in y_pred_xgb]\n",
    "\n",
    "#accuracy\n",
    "from sklearn.metrics import accuracy_score\n",
    "accuracy = accuracy_score(testY, predictions)\n",
    "print(\"Accuracy: %.2f%%\" % (accuracy * 100.0))\n",
    "\n",
    "#confusion matrix (graph)\n",
    "from sklearn.metrics import confusion_matrix\n",
    "xgb_cm = confusion_matrix(testY, y_pred_xgb)\n",
    "\n",
    "fig, ax = plt.subplots(1, 1,figsize=(10,5))\n",
    "sns.heatmap(xgb_cm, ax=ax, cmap=plt.cm.copper)\n",
    "ax.set_title(\"XGBoost Classifier \\n Confusion Matrix\", fontsize=14)\n",
    "\n",
    "#precision    recall  f1-score\n",
    "from sklearn.metrics import classification_report\n",
    "print('XGBoost Classifier:')\n",
    "print(classification_report(testY, y_pred_xgb))"
   ]
  },
  {
   "cell_type": "markdown",
   "metadata": {},
   "source": [
    "From the graph, the model correctly classifies true negatives (top left square), while minimising false negatives (top right square) and false positives (bottom left square). However it fails to capture true positives (bottom right square) - which is pretty much the whole point of this assignment. So yeah, it needs work lol"
   ]
  },
  {
   "cell_type": "markdown",
   "metadata": {},
   "source": [
    "# Stuff to be completed"
   ]
  },
  {
   "cell_type": "code",
   "execution_count": null,
   "metadata": {},
   "outputs": [],
   "source": [
    "\"\"\"\n",
    "\n",
    "1. improve performance (reducing time taken for JSON_to_dataframe would really help)\n",
    "\n",
    "2. feature engineering: add more features to the model (eg. adding suburb, street, street number, emial provider, etc. to df)\n",
    "\n",
    "3. build more models (probably do this once 1 and 2 have been completed first)\n",
    "\n",
    "4. \n",
    "\n",
    "\"\"\""
   ]
  }
 ],
 "metadata": {
  "kernelspec": {
   "display_name": "Python 3",
   "language": "python",
   "name": "python3"
  },
  "language_info": {
   "codemirror_mode": {
    "name": "ipython",
    "version": 3
   },
   "file_extension": ".py",
   "mimetype": "text/x-python",
   "name": "python",
   "nbconvert_exporter": "python",
   "pygments_lexer": "ipython3",
   "version": "3.7.3"
  }
 },
 "nbformat": 4,
 "nbformat_minor": 2
}
